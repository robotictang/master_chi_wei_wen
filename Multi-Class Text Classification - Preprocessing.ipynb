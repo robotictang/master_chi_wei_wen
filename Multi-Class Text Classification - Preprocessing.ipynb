{
 "cells": [
  {
   "cell_type": "code",
   "execution_count": 1,
   "id": "0ab8bf7a",
   "metadata": {},
   "outputs": [
    {
     "name": "stderr",
     "output_type": "stream",
     "text": [
      "[nltk_data] Downloading package punkt to\n",
      "[nltk_data]     C:\\Users\\danie\\AppData\\Roaming\\nltk_data...\n",
      "[nltk_data]   Package punkt is already up-to-date!\n",
      "[nltk_data] Downloading package wordnet to\n",
      "[nltk_data]     C:\\Users\\danie\\AppData\\Roaming\\nltk_data...\n",
      "[nltk_data]   Package wordnet is already up-to-date!\n",
      "[nltk_data] Downloading package stopwords to\n",
      "[nltk_data]     C:\\Users\\danie\\AppData\\Roaming\\nltk_data...\n",
      "[nltk_data]   Package stopwords is already up-to-date!\n"
     ]
    },
    {
     "data": {
      "text/html": [
       "<div>\n",
       "<style scoped>\n",
       "    .dataframe tbody tr th:only-of-type {\n",
       "        vertical-align: middle;\n",
       "    }\n",
       "\n",
       "    .dataframe tbody tr th {\n",
       "        vertical-align: top;\n",
       "    }\n",
       "\n",
       "    .dataframe thead th {\n",
       "        text-align: right;\n",
       "    }\n",
       "</style>\n",
       "<table border=\"1\" class=\"dataframe\">\n",
       "  <thead>\n",
       "    <tr style=\"text-align: right;\">\n",
       "      <th></th>\n",
       "      <th>description</th>\n",
       "      <th>tags</th>\n",
       "    </tr>\n",
       "  </thead>\n",
       "  <tbody>\n",
       "    <tr>\n",
       "      <th>0</th>\n",
       "      <td>invoice tabratas tharom ismayoeddin</td>\n",
       "      <td>Travelling Expenses</td>\n",
       "    </tr>\n",
       "    <tr>\n",
       "      <th>1</th>\n",
       "      <td>print label</td>\n",
       "      <td>Courier &amp; Postage</td>\n",
       "    </tr>\n",
       "    <tr>\n",
       "      <th>2</th>\n",
       "      <td>computer usage</td>\n",
       "      <td>Printing. Stationery &amp; Periodicals</td>\n",
       "    </tr>\n",
       "    <tr>\n",
       "      <th>3</th>\n",
       "      <td>lavender callons tesco</td>\n",
       "      <td>Staff Welfare</td>\n",
       "    </tr>\n",
       "    <tr>\n",
       "      <th>4</th>\n",
       "      <td>hotel badri grabd pink hatyai</td>\n",
       "      <td>Accomodation</td>\n",
       "    </tr>\n",
       "    <tr>\n",
       "      <th>...</th>\n",
       "      <td>...</td>\n",
       "      <td>...</td>\n",
       "    </tr>\n",
       "    <tr>\n",
       "      <th>102405</th>\n",
       "      <td>['2007 pc mbs roadmax ii additional insurance ...</td>\n",
       "      <td>Motor Vehicle Insurance &amp; Road Tax</td>\n",
       "    </tr>\n",
       "    <tr>\n",
       "      <th>102406</th>\n",
       "      <td>['for pc of mbs roadmax additional life insura...</td>\n",
       "      <td>Motor Vehicle Insurance &amp; Road Tax</td>\n",
       "    </tr>\n",
       "    <tr>\n",
       "      <th>102407</th>\n",
       "      <td>['data emma jpj provides roadtax ddc and add d...</td>\n",
       "      <td>Motor Vehicle Insurance &amp; Road Tax</td>\n",
       "    </tr>\n",
       "    <tr>\n",
       "      <th>102408</th>\n",
       "      <td>['pc mbs data roadmax additional credit insura...</td>\n",
       "      <td>Motor Vehicle Insurance &amp; Road Tax</td>\n",
       "    </tr>\n",
       "    <tr>\n",
       "      <th>102409</th>\n",
       "      <td>['a pc and mbs roadmax service additional auto...</td>\n",
       "      <td>Motor Vehicle Insurance &amp; Road Tax</td>\n",
       "    </tr>\n",
       "  </tbody>\n",
       "</table>\n",
       "<p>102410 rows × 2 columns</p>\n",
       "</div>"
      ],
      "text/plain": [
       "                                              description  \\\n",
       "0                     invoice tabratas tharom ismayoeddin   \n",
       "1                                             print label   \n",
       "2                                          computer usage   \n",
       "3                                  lavender callons tesco   \n",
       "4                           hotel badri grabd pink hatyai   \n",
       "...                                                   ...   \n",
       "102405  ['2007 pc mbs roadmax ii additional insurance ...   \n",
       "102406  ['for pc of mbs roadmax additional life insura...   \n",
       "102407  ['data emma jpj provides roadtax ddc and add d...   \n",
       "102408  ['pc mbs data roadmax additional credit insura...   \n",
       "102409  ['a pc and mbs roadmax service additional auto...   \n",
       "\n",
       "                                      tags  \n",
       "0                      Travelling Expenses  \n",
       "1                        Courier & Postage  \n",
       "2       Printing. Stationery & Periodicals  \n",
       "3                            Staff Welfare  \n",
       "4                             Accomodation  \n",
       "...                                    ...  \n",
       "102405  Motor Vehicle Insurance & Road Tax  \n",
       "102406  Motor Vehicle Insurance & Road Tax  \n",
       "102407  Motor Vehicle Insurance & Road Tax  \n",
       "102408  Motor Vehicle Insurance & Road Tax  \n",
       "102409  Motor Vehicle Insurance & Road Tax  \n",
       "\n",
       "[102410 rows x 2 columns]"
      ]
     },
     "metadata": {},
     "output_type": "display_data"
    }
   ],
   "source": [
    "#Load Libraries\n",
    "import re\n",
    "import string\n",
    "import logging\n",
    "import pandas as pd\n",
    "import numpy as np\n",
    "from numpy import random\n",
    "import gensim\n",
    "from tqdm.auto import tqdm\n",
    "import nltk\n",
    "nltk.download('punkt')\n",
    "nltk.download('wordnet')\n",
    "nltk.download('stopwords')\n",
    "from nltk.stem import WordNetLemmatizer\n",
    "from nltk import word_tokenize\n",
    "from nltk.corpus import stopwords\n",
    "from bs4 import BeautifulSoup\n",
    "import matplotlib.pyplot as plt\n",
    "%matplotlib inline\n",
    "from sklearn.model_selection import train_test_split\n",
    "from sklearn.feature_extraction.text import CountVectorizer, TfidfVectorizer\n",
    "from sklearn.feature_extraction.text import TfidfTransformer\n",
    "from sklearn.metrics import accuracy_score, confusion_matrix\n",
    "from sklearn.metrics import classification_report\n",
    "from sklearn.naive_bayes import MultinomialNB\n",
    "from sklearn.linear_model import SGDClassifier\n",
    "from sklearn.linear_model import LogisticRegression\n",
    "from sklearn.svm import LinearSVC\n",
    "from sklearn.ensemble import RandomForestClassifier\n",
    "from sklearn.pipeline import Pipeline\n",
    "from sklearn.model_selection import StratifiedKFold\n",
    "from sklearn.model_selection import KFold\n",
    "import nlpaug.augmenter.word.context_word_embs as aug\n",
    "\n",
    "#Load Data\n",
    "df = pd.read_csv('C:/Users/danie/Desktop/Capstone/Dataset/dataset5.csv')\n",
    "display(df)"
   ]
  },
  {
   "cell_type": "code",
   "execution_count": 2,
   "id": "e885e265",
   "metadata": {},
   "outputs": [
    {
     "data": {
      "text/plain": [
       "<AxesSubplot:>"
      ]
     },
     "execution_count": 2,
     "metadata": {},
     "output_type": "execute_result"
    },
    {
     "data": {
      "image/png": "[encoded data removed]",
      "text/plain": [
       "<Figure size 720x288 with 1 Axes>"
      ]
     },
     "metadata": {
      "needs_background": "light"
     },
     "output_type": "display_data"
    }
   ],
   "source": [
    "#Class Distribution\n",
    "plt.figure(figsize=(10,4))\n",
    "df.tags.value_counts().plot(kind='bar')"
   ]
  },
  {
   "cell_type": "code",
   "execution_count": 3,
   "id": "d79dbf51",
   "metadata": {},
   "outputs": [
    {
     "data": {
      "text/plain": [
       "Travelling Expenses                    1862\n",
       "IT Supports. Supplies & Consumables    1862\n",
       "Rental Photocopy Machine               1862\n",
       "Membership & Subscription              1862\n",
       "Renovation                             1862\n",
       "Operating Equipment                    1862\n",
       "Uniform                                1862\n",
       "License & Registration                 1862\n",
       "Penalty & Levy Charges                 1862\n",
       "Interest Expense                       1862\n",
       "Filling Fee                            1862\n",
       "IT Software                            1862\n",
       "Gift & Sponsorship                     1862\n",
       "Security Expenses                      1862\n",
       "Tax Fee                                1862\n",
       "Management Fee                         1862\n",
       "Bank charges & Commitment Fee          1862\n",
       "General Insurance                      1862\n",
       "Corporate Event                        1862\n",
       "Deposits                               1862\n",
       "Furniture & Fittings                   1862\n",
       "Recruitment Expenses                   1862\n",
       "Stamp Duty                             1862\n",
       "Pest Control                           1862\n",
       "WHT expenses                           1862\n",
       "Advisory & Consultation Fee            1862\n",
       "Staff Insurance                        1862\n",
       "Mileage                                1862\n",
       "Courier & Postage                      1862\n",
       "Fuel & Petrol                          1862\n",
       "Printing. Stationery & Periodicals     1862\n",
       "Staff Welfare                          1862\n",
       "Accomodation                           1862\n",
       "Repair. Upkeep & Maintenance           1862\n",
       "Medical Expenses                       1862\n",
       "Utilities Telephone. Internet & Fax    1862\n",
       "Rental                                 1862\n",
       "Legal Fee                              1862\n",
       "SST Expenses                           1862\n",
       "Entertainment                          1862\n",
       "Utilities                              1862\n",
       "Office Supplies & Consumable           1862\n",
       "Office Equipment                       1862\n",
       "Expatriate Expenses                    1862\n",
       "Training & Seminar                     1862\n",
       "Allowance/Incentive                    1862\n",
       "Inventories                            1862\n",
       "Profesional Fee                        1862\n",
       "Audit Fee                              1862\n",
       "Secretarial Fee                        1862\n",
       "Toll & Parking                         1862\n",
       "Staff Benefit                          1862\n",
       "IT Equipment                           1862\n",
       "Assessment & Quit Rent                 1862\n",
       "Motor Vehicle Insurance & Road Tax     1862\n",
       "Name: tags, dtype: int64"
      ]
     },
     "execution_count": 3,
     "metadata": {},
     "output_type": "execute_result"
    }
   ],
   "source": [
    "#Check Class Balance\n",
    "df['tags'].value_counts()"
   ]
  },
  {
   "cell_type": "code",
   "execution_count": 4,
   "id": "e03c8f0b",
   "metadata": {},
   "outputs": [
    {
     "name": "stdout",
     "output_type": "stream",
     "text": [
      "digital river ireland adobe creative cloud membership\n",
      "tags: Membership & Subscription\n"
     ]
    }
   ],
   "source": [
    "#before preprocessing\n",
    "def print_plot(index):\n",
    "    example = df[df.index == index][['description', 'tags']].values[0]\n",
    "    if len(example) > 0:\n",
    "        print(example[0])\n",
    "        print('tags:', example[1])\n",
    "print_plot(4500)"
   ]
  },
  {
   "cell_type": "code",
   "execution_count": 5,
   "id": "e06c9b56",
   "metadata": {},
   "outputs": [
    {
     "name": "stderr",
     "output_type": "stream",
     "text": [
      "C:\\Users\\danie\\AppData\\Local\\Temp\\ipykernel_652\\1648839023.py:22: FutureWarning: The default value of regex will change from True to False in a future version.\n",
      "  df['description'] = df['description'].str.replace('\\d+', \"\")\n"
     ]
    },
    {
     "name": "stdout",
     "output_type": "stream",
     "text": [
      "digital river ireland adobe creative cloud membership\n",
      "tags: Membership & Subscription\n"
     ]
    }
   ],
   "source": [
    "#after preprocessing\n",
    "REPLACE_BY_SPACE_RE = re.compile('[/(){}\\[\\]\\|@,;]')\n",
    "BAD_SYMBOLS_RE = re.compile('[^0-9a-z #+_]')\n",
    "STOPWORDS = set(stopwords.words('english'))\n",
    "\n",
    "def clean_text(text):\n",
    "    \"\"\"\n",
    "        text: a string\n",
    "        \n",
    "        return: modified initial string\n",
    "    \"\"\"\n",
    "    text = BeautifulSoup(text, \"lxml\").text # HTML decoding\n",
    "    text = text.lower() # lowercase text\n",
    "    text = REPLACE_BY_SPACE_RE.sub(' ', text) # replace REPLACE_BY_SPACE_RE symbols by space in text\n",
    "    text = BAD_SYMBOLS_RE.sub('', text) # delete symbols which are in BAD_SYMBOLS_RE from text\n",
    "    text = re.sub(r\"\\s+[a-zA-Z]\\s+\", ' ', text) #single character removal\n",
    "    text = re.sub(r'\\s+', ' ', text) #remove multiple spaces \n",
    "    text = ' '.join(word for word in text.split() if word not in STOPWORDS) # delete stopwors from text\n",
    "    return text\n",
    "    \n",
    "df['description'] = df['description'].apply(clean_text)\n",
    "df['description'] = df['description'].str.replace('\\d+', \"\")\n",
    "print_plot(4500)"
   ]
  },
  {
   "cell_type": "code",
   "execution_count": 6,
   "id": "b4f5ea33",
   "metadata": {},
   "outputs": [],
   "source": [
    "df.to_csv(r'C:\\Users\\danie\\Desktop\\Capstone\\Dataset\\dataset5_prep.csv', index=False)"
   ]
  }
 ],
 "metadata": {
  "kernelspec": {
   "display_name": "Python 3 (ipykernel)",
   "language": "python",
   "name": "python3"
  },
  "language_info": {
   "codemirror_mode": {
    "name": "ipython",
    "version": 3
   },
   "file_extension": ".py",
   "mimetype": "text/x-python",
   "name": "python",
   "nbconvert_exporter": "python",
   "pygments_lexer": "ipython3",
   "version": "3.9.12"
  }
 },
 "nbformat": 4,
 "nbformat_minor": 5
}
